{
 "cells": [
  {
   "cell_type": "markdown",
   "metadata": {},
   "source": [
    "# Replicate and Decompose the daily return sequence for investment funds or equity with 500 stock daily return sequence from SP 500\n",
    "The goal for this project is to replicate the daily return sequence for any investment fund or equity, with the given performance of SP 500 stocks. After the replication, the relative importances of the 500 stocks will be decomposed. Then the training model can be used to predict the future returns of the target fund or equity. "
   ]
  },
  {
   "cell_type": "code",
   "execution_count": 14,
   "metadata": {
    "collapsed": false
   },
   "outputs": [],
   "source": [
    "from yahoofinancials import YahooFinancials\n",
    "import pandas as pd\n",
    "import numpy as np"
   ]
  },
  {
   "cell_type": "markdown",
   "metadata": {},
   "source": [
    "# Get historical stock price data for S&P 500"
   ]
  },
  {
   "cell_type": "code",
   "execution_count": 15,
   "metadata": {
    "collapsed": false
   },
   "outputs": [],
   "source": [
    "def getDailyStockPrices(names,date1,date2):\n",
    "    stocks=YahooFinancials(names)\n",
    "    daily_prices_dic = stocks.get_historical_stock_data(date1, date2, 'daily')\n",
    "    prices=pd.DataFrame(columns=['stock_name','date','open','high','low','close','adjusted_close','volume'])\n",
    "    k=0\n",
    "    for name in names:\n",
    "        temp=daily_prices_dic[name]['prices']\n",
    "        for i in range(len(temp)):\n",
    "            try:\n",
    "                line=[name,temp[i]['formatted_date'],temp[i]['open'],temp[i]['high'],\n",
    "                     temp[i]['low'],temp[i]['close'],temp[i]['adjclose'],\n",
    "                     temp[i]['volume']]\n",
    "                prices.loc[k]=line\n",
    "                k+=1\n",
    "            \n",
    "            except:\n",
    "                pass\n",
    "    return prices\n",
    "    "
   ]
  },
  {
   "cell_type": "code",
   "execution_count": 16,
   "metadata": {
    "collapsed": true
   },
   "outputs": [],
   "source": [
    "date1='2011-12-25'\n",
    "date2='2018-07-12'"
   ]
  },
  {
   "cell_type": "code",
   "execution_count": 17,
   "metadata": {
    "collapsed": false
   },
   "outputs": [],
   "source": [
    "stocks_sp500=pd.read_csv('SP500.csv')"
   ]
  },
  {
   "cell_type": "code",
   "execution_count": 18,
   "metadata": {
    "collapsed": false
   },
   "outputs": [],
   "source": [
    "sectors=set(stocks_sp500.Sector)"
   ]
  },
  {
   "cell_type": "code",
   "execution_count": 19,
   "metadata": {
    "collapsed": false
   },
   "outputs": [
    {
     "data": {
      "text/html": [
       "<div>\n",
       "<style scoped>\n",
       "    .dataframe tbody tr th:only-of-type {\n",
       "        vertical-align: middle;\n",
       "    }\n",
       "\n",
       "    .dataframe tbody tr th {\n",
       "        vertical-align: top;\n",
       "    }\n",
       "\n",
       "    .dataframe thead th {\n",
       "        text-align: right;\n",
       "    }\n",
       "</style>\n",
       "<table border=\"1\" class=\"dataframe\">\n",
       "  <thead>\n",
       "    <tr style=\"text-align: right;\">\n",
       "      <th></th>\n",
       "      <th>Symbol</th>\n",
       "      <th>Name</th>\n",
       "      <th>Sector</th>\n",
       "    </tr>\n",
       "  </thead>\n",
       "  <tbody>\n",
       "    <tr>\n",
       "      <th>0</th>\n",
       "      <td>MMM</td>\n",
       "      <td>3M Company</td>\n",
       "      <td>Industrials</td>\n",
       "    </tr>\n",
       "  </tbody>\n",
       "</table>\n",
       "</div>"
      ],
      "text/plain": [
       "  Symbol        Name       Sector\n",
       "0    MMM  3M Company  Industrials"
      ]
     },
     "execution_count": 19,
     "metadata": {},
     "output_type": "execute_result"
    }
   ],
   "source": [
    "stocks_sp500.head(1)"
   ]
  },
  {
   "cell_type": "code",
   "execution_count": 20,
   "metadata": {
    "collapsed": false
   },
   "outputs": [],
   "source": [
    "# Get the historic stock data for the first time\n",
    "#data=getDailyStockPrices(stocks_sp500.Symbol,date1,date2)\n",
    "#data.to_csv('history_data.csv')\n",
    "# it takes a while to get the data, just load the saved data\n",
    "history_data=pd.read_csv('history_data.csv')"
   ]
  },
  {
   "cell_type": "markdown",
   "metadata": {
    "collapsed": true
   },
   "source": [
    "# Calculate Future Returns (the returns for today as of yesterday)\n",
    "yesterday return at i = (price_at_(i+1) -price_at_i)/(price_at_i)"
   ]
  },
  {
   "cell_type": "code",
   "execution_count": 21,
   "metadata": {
    "collapsed": true
   },
   "outputs": [],
   "source": [
    "def Calculate_FutureReturns(df,company_col, price_col,date_col):\n",
    "    Companies=np.unique(df[company_col])\n",
    "    return_df=pd.DataFrame(index=df.index, columns=['Date','Company','FutureReturns'])\n",
    "    for company in Companies:\n",
    "        print (company)\n",
    "        temp= df[df[company_col]==company].sort_values(date_col)\n",
    "        index_list=temp.index\n",
    "        max_index=len(index_list)\n",
    "        for i in range(max_index):\n",
    "            if i <max_index-1:\n",
    "                ret=(temp.loc[index_list[i+1],price_col]-temp.loc[index_list[i],price_col])/temp.loc[index_list[i],price_col]\n",
    "                return_df.loc[index_list[i],'FutureReturns']=ret \n",
    "    return return_df"
   ]
  },
  {
   "cell_type": "code",
   "execution_count": 22,
   "metadata": {
    "collapsed": false
   },
   "outputs": [],
   "source": [
    "# Calculate the returns for the first time\n",
    "\n",
    "#FutureReturns=Calculate_FutureReturns(history_data.copy(),\"stock_name\", 'close','date')\n",
    "#FutureReturns['date']=history_data.date\n",
    "#FutureReturns['Company']=history_data.stock_name\n",
    "#FutureReturns.sort_values(['Company','Date']).to_csv('Future_returns.csv')\n",
    "\n",
    "# Since it takes a while to get the results, I save the results to csv file and reload it for  the second and after runs\n",
    "FutureReturns=pd.read_csv('Future_returns.csv').set_index(['Index'])"
   ]
  },
  {
   "cell_type": "markdown",
   "metadata": {},
   "source": [
    "# Get each stock's return as a time series strategy"
   ]
  },
  {
   "cell_type": "code",
   "execution_count": 23,
   "metadata": {
    "collapsed": false
   },
   "outputs": [],
   "source": [
    "strategy_names=FutureReturns.pivot(index='Date',columns='Company',values='FutureReturns')"
   ]
  },
  {
   "cell_type": "code",
   "execution_count": 24,
   "metadata": {
    "collapsed": false
   },
   "outputs": [],
   "source": [
    "strategy_names.to_csv('strategy_sp500.csv')"
   ]
  },
  {
   "cell_type": "code",
   "execution_count": 25,
   "metadata": {
    "collapsed": true
   },
   "outputs": [],
   "source": [
    "# In silimar way, generate the return time series data for S&P 500 or other investment funds or equity"
   ]
  },
  {
   "cell_type": "markdown",
   "metadata": {},
   "source": [
    "# Investment strategy replication and decomposition"
   ]
  },
  {
   "cell_type": "code",
   "execution_count": 26,
   "metadata": {
    "collapsed": false
   },
   "outputs": [
    {
     "name": "stderr",
     "output_type": "stream",
     "text": [
      "Using TensorFlow backend.\n"
     ]
    }
   ],
   "source": [
    "from scipy import stats\n",
    "import matplotlib.pyplot as plt\n",
    "%matplotlib inline \n",
    "from keras.callbacks import History \n",
    "from keras import initializers\n",
    "from keras import optimizers"
   ]
  },
  {
   "cell_type": "code",
   "execution_count": 27,
   "metadata": {
    "collapsed": false
   },
   "outputs": [],
   "source": [
    "strategy_df=pd.read_csv('strategy_SP500_final.csv').sort_values(by=['Date']).drop(['Date'],axis=1)\n",
    "targets_df=pd.read_csv('target_100.csv').sort_values(by=['Date']).drop(['Date'],axis=1)"
   ]
  },
  {
   "cell_type": "markdown",
   "metadata": {},
   "source": [
    " # Check missing data and impute the missing data with mean"
   ]
  },
  {
   "cell_type": "code",
   "execution_count": 28,
   "metadata": {
    "collapsed": true
   },
   "outputs": [],
   "source": [
    "def missing_values_table(df):\n",
    "        # Total missing values\n",
    "        mis_val = df.isnull().sum()\n",
    "        \n",
    "        # Percentage of missing values\n",
    "        mis_val_percent = 100 * df.isnull().sum() / len(df)\n",
    "        \n",
    "        # Make a table with the results\n",
    "        mis_val_table = pd.concat([mis_val, mis_val_percent], axis=1)\n",
    "        \n",
    "        # Rename the columns\n",
    "        mis_val_table_ren_columns = mis_val_table.rename(\n",
    "        columns = {0 : 'Missing Values', 1 : '% of Total Values'})\n",
    "        \n",
    "        # Sort the table by percentage of missing descending\n",
    "        mis_val_table_ren_columns = mis_val_table_ren_columns[\n",
    "            mis_val_table_ren_columns.iloc[:,1] != 0].sort_values(\n",
    "        '% of Total Values', ascending=False).round(1)\n",
    "        \n",
    "        # Print some summary information\n",
    "        print (\"Your selected dataframe has \" + str(df.shape[1]) + \" columns.\\n\"      \n",
    "            \"There are \" + str(mis_val_table_ren_columns.shape[0]) +\n",
    "              \" columns that have missing values.\")\n",
    "        \n",
    "        # Return the dataframe with missing information\n",
    "        return mis_val_table_ren_columns"
   ]
  },
  {
   "cell_type": "code",
   "execution_count": 29,
   "metadata": {
    "collapsed": false
   },
   "outputs": [
    {
     "name": "stdout",
     "output_type": "stream",
     "text": [
      "Your selected dataframe has 500 columns.\n",
      "There are 10 columns that have missing values.\n"
     ]
    },
    {
     "data": {
      "text/html": [
       "<div>\n",
       "<style scoped>\n",
       "    .dataframe tbody tr th:only-of-type {\n",
       "        vertical-align: middle;\n",
       "    }\n",
       "\n",
       "    .dataframe tbody tr th {\n",
       "        vertical-align: top;\n",
       "    }\n",
       "\n",
       "    .dataframe thead th {\n",
       "        text-align: right;\n",
       "    }\n",
       "</style>\n",
       "<table border=\"1\" class=\"dataframe\">\n",
       "  <thead>\n",
       "    <tr style=\"text-align: right;\">\n",
       "      <th></th>\n",
       "      <th>Missing Values</th>\n",
       "      <th>% of Total Values</th>\n",
       "    </tr>\n",
       "  </thead>\n",
       "  <tbody>\n",
       "    <tr>\n",
       "      <th>strategy93</th>\n",
       "      <td>62</td>\n",
       "      <td>3.7</td>\n",
       "    </tr>\n",
       "    <tr>\n",
       "      <th>strategy52</th>\n",
       "      <td>4</td>\n",
       "      <td>0.2</td>\n",
       "    </tr>\n",
       "    <tr>\n",
       "      <th>strategy61</th>\n",
       "      <td>4</td>\n",
       "      <td>0.2</td>\n",
       "    </tr>\n",
       "    <tr>\n",
       "      <th>strategy69</th>\n",
       "      <td>4</td>\n",
       "      <td>0.2</td>\n",
       "    </tr>\n",
       "    <tr>\n",
       "      <th>strategy53</th>\n",
       "      <td>2</td>\n",
       "      <td>0.1</td>\n",
       "    </tr>\n",
       "    <tr>\n",
       "      <th>strategy60</th>\n",
       "      <td>2</td>\n",
       "      <td>0.1</td>\n",
       "    </tr>\n",
       "    <tr>\n",
       "      <th>strategy62</th>\n",
       "      <td>2</td>\n",
       "      <td>0.1</td>\n",
       "    </tr>\n",
       "    <tr>\n",
       "      <th>strategy68</th>\n",
       "      <td>2</td>\n",
       "      <td>0.1</td>\n",
       "    </tr>\n",
       "    <tr>\n",
       "      <th>strategy81</th>\n",
       "      <td>2</td>\n",
       "      <td>0.1</td>\n",
       "    </tr>\n",
       "    <tr>\n",
       "      <th>strategy63</th>\n",
       "      <td>1</td>\n",
       "      <td>0.1</td>\n",
       "    </tr>\n",
       "  </tbody>\n",
       "</table>\n",
       "</div>"
      ],
      "text/plain": [
       "            Missing Values  % of Total Values\n",
       "strategy93              62                3.7\n",
       "strategy52               4                0.2\n",
       "strategy61               4                0.2\n",
       "strategy69               4                0.2\n",
       "strategy53               2                0.1\n",
       "strategy60               2                0.1\n",
       "strategy62               2                0.1\n",
       "strategy68               2                0.1\n",
       "strategy81               2                0.1\n",
       "strategy63               1                0.1"
      ]
     },
     "execution_count": 29,
     "metadata": {},
     "output_type": "execute_result"
    }
   ],
   "source": [
    "missing_values = missing_values_table(strategy_df)\n",
    "missing_values"
   ]
  },
  {
   "cell_type": "code",
   "execution_count": 30,
   "metadata": {
    "collapsed": false
   },
   "outputs": [
    {
     "name": "stdout",
     "output_type": "stream",
     "text": [
      "Your selected dataframe has 100 columns.\n",
      "There are 0 columns that have missing values.\n"
     ]
    },
    {
     "data": {
      "text/html": [
       "<div>\n",
       "<style scoped>\n",
       "    .dataframe tbody tr th:only-of-type {\n",
       "        vertical-align: middle;\n",
       "    }\n",
       "\n",
       "    .dataframe tbody tr th {\n",
       "        vertical-align: top;\n",
       "    }\n",
       "\n",
       "    .dataframe thead th {\n",
       "        text-align: right;\n",
       "    }\n",
       "</style>\n",
       "<table border=\"1\" class=\"dataframe\">\n",
       "  <thead>\n",
       "    <tr style=\"text-align: right;\">\n",
       "      <th></th>\n",
       "      <th>Missing Values</th>\n",
       "      <th>% of Total Values</th>\n",
       "    </tr>\n",
       "  </thead>\n",
       "  <tbody>\n",
       "  </tbody>\n",
       "</table>\n",
       "</div>"
      ],
      "text/plain": [
       "Empty DataFrame\n",
       "Columns: [Missing Values, % of Total Values]\n",
       "Index: []"
      ]
     },
     "execution_count": 30,
     "metadata": {},
     "output_type": "execute_result"
    }
   ],
   "source": [
    "missing_values = missing_values_table(targets_df)\n",
    "missing_values"
   ]
  },
  {
   "cell_type": "code",
   "execution_count": 31,
   "metadata": {
    "collapsed": true
   },
   "outputs": [],
   "source": [
    "from sklearn.preprocessing import MinMaxScaler,Imputer\n",
    "imputer = Imputer(strategy = 'mean')\n",
    "imputer.fit(strategy_df)\n",
    "# Transform training  data\n",
    "strategy_df = imputer.transform(strategy_df)\n",
    "\n",
    "imputer_target = Imputer(strategy = 'mean')\n",
    "imputer_target.fit(targets_df)\n",
    "targets_df=imputer_target.transform(targets_df)"
   ]
  },
  {
   "cell_type": "markdown",
   "metadata": {},
   "source": [
    "# Scale the strategy and target data to [0,1] and Select the number of strategy, the number of time steps for the model"
   ]
  },
  {
   "cell_type": "code",
   "execution_count": 32,
   "metadata": {
    "collapsed": true
   },
   "outputs": [],
   "source": [
    "scaler_stra=MinMaxScaler(feature_range=(0, 1))\n",
    "scaler_stra.fit(strategy_df[:,:])\n",
    "strategy_scale=scaler_stra.transform(strategy_df[:,:])"
   ]
  },
  {
   "cell_type": "code",
   "execution_count": 33,
   "metadata": {
    "collapsed": true
   },
   "outputs": [],
   "source": [
    "def getTargetsList(targets_df,i,j):\n",
    "    all_target=[]\n",
    "    for k in range(len(targets_df)):\n",
    "            temp= list(targets_df[k,i:j])\n",
    "            all_target.append(temp)\n",
    "    return all_target"
   ]
  },
  {
   "cell_type": "code",
   "execution_count": 34,
   "metadata": {
    "collapsed": true
   },
   "outputs": [],
   "source": [
    "scaler=MinMaxScaler(feature_range=(0, 1))\n",
    "scaler.fit(targets_df[:,:])\n",
    "targets=(scaler.transform(targets_df[:,:]))"
   ]
  },
  {
   "cell_type": "markdown",
   "metadata": {},
   "source": [
    "# Build and train the model"
   ]
  },
  {
   "cell_type": "code",
   "execution_count": 35,
   "metadata": {
    "collapsed": false
   },
   "outputs": [],
   "source": [
    "from keras import models\n",
    "from keras import layers\n",
    "from keras.models import Sequential\n",
    "from keras.layers import Dense\n",
    "np.random.seed(7)"
   ]
  },
  {
   "cell_type": "code",
   "execution_count": 36,
   "metadata": {
    "collapsed": true
   },
   "outputs": [],
   "source": [
    "from random import randint\n",
    "from numpy.random import seed\n",
    "import timeit\n",
    "from tensorflow import set_random_seed\n",
    "set_random_seed(2)"
   ]
  },
  {
   "cell_type": "code",
   "execution_count": 37,
   "metadata": {
    "collapsed": true
   },
   "outputs": [],
   "source": [
    "def BuildNewModel(all_targets, all_inputs_rec,Node_num=10, solver=\"sgd\"):\n",
    "    #sgd = optimizers.sgd(lr=0.001, decay=1e-9, momentum=0.9, nesterov=True)\n",
    "    #sgd=  optimizers.sgd(lr=0.001, decay=1e-9)\n",
    "    nn = Sequential()\n",
    "    nn.add(Dense(Node_num, input_dim=len(all_inputs_rec[0]), activation='tanh',))\n",
    "    nn.add(Dense(Node_num, activation='sigmoid'))\n",
    "    nn.add(Dense(len(all_targets[0]), activation='tanh'))\n",
    "    nn.compile(loss='mse', optimizer=solver)\n",
    "    return nn"
   ]
  },
  {
   "cell_type": "code",
   "execution_count": 38,
   "metadata": {
    "collapsed": false
   },
   "outputs": [],
   "source": [
    "targets_orig=pd.read_csv('target_100.csv').sort_values(by=['Date']).drop(['Date'],axis=1)"
   ]
  },
  {
   "cell_type": "code",
   "execution_count": 39,
   "metadata": {
    "collapsed": false
   },
   "outputs": [
    {
     "name": "stdout",
     "output_type": "stream",
     "text": [
      "Start learning for target: 1\n",
      "(1662, 1) (1662, 500)\n",
      "Learning phase 1: \n",
      "Minimu loss achieved:  0.00503323735472\n",
      "199\n",
      "--------------------------------------------------------------------------------\n",
      "--------------------------------------------------------------------------------\n",
      "Learning phase 2: \n",
      "Minimu loss achieved:  0.00503323735472\n",
      "931\n",
      "Training time: %f 101.44588008133992\n",
      "--------------------------------------------------------------------------------\n",
      "DescribeResult(nobs=1662, minmax=(array([ 0.]), array([ 1.])), mean=array([ 0.61389823]), variance=array([ 0.00465105]), skewness=array([-0.39079991]), kurtosis=array([ 5.89424629]))\n",
      "--------------------------------------------------------------------------------\n",
      "DescribeResult(nobs=1662, minmax=(array([ 0.4631418], dtype=float32), array([ 0.73236245], dtype=float32)), mean=array([ 0.61295015], dtype=float32), variance=array([ 0.00083243], dtype=float32), skewness=array([-0.01426955], dtype=float32), kurtosis=array([ 1.3000536], dtype=float32))\n",
      "--------------------------------------------------------------------------------\n"
     ]
    },
    {
     "data": {
      "text/plain": [
       "<Figure size 2160x1080 with 0 Axes>"
      ]
     },
     "metadata": {},
     "output_type": "display_data"
    }
   ],
   "source": [
    "target_loss=pd.DataFrame(columns=['target_ID','Minimum_loss_1','Minimum_loss_2','numEpoch','Training_time'])\n",
    "target_cols=targets_orig.columns\n",
    "Num_target=0\n",
    "all_inputs_rec=strategy_scale\n",
    "num=targets.shape[1]\n",
    "for i in (range(1)):\n",
    "    print ('Start learning for target:', i+1)\n",
    "    new_targets=np.array(getTargetsList(targets,i,i+1))\n",
    "    print(new_targets.shape, all_inputs_rec.shape)\n",
    "    \n",
    "    print ('Learning phase 1: ')\n",
    "    start = timeit.default_timer()\n",
    "    numNodes=50\n",
    "    new_model=BuildNewModel(new_targets, all_inputs_rec,Node_num=numNodes,solver='sgd')\n",
    "\n",
    "    #new_model.load_weights('original_model_weights.h5', by_name=True)\n",
    "    \n",
    "    num_epoch=200\n",
    "    show_epoch=1\n",
    "    plt.figure(figsize=(30,15))\n",
    "    show_epoch=0\n",
    "    seed(10)\n",
    "    set_random_seed(11)\n",
    "    #random.seed(12)\n",
    "    h=new_model.fit(all_inputs_rec, new_targets, epochs=num_epoch, batch_size=128,verbose=show_epoch)\n",
    "    print ('Minimu loss achieved: ', min(h.history['loss']))\n",
    "    print (np.argmin(h.history['loss']))  #np.argmin\n",
    "    print('----'*20)\n",
    "    print('----'*20)\n",
    "    print ('Learning phase 2: ')\n",
    "    new_model=BuildNewModel(new_targets, all_inputs_rec,Node_num=numNodes,solver='adam')\n",
    "\n",
    "    #new_model.load_weights('original_model_weights.h5', by_name=True)\n",
    "    #print(new_targets.shape, all_inputs_rec.shape)\n",
    "    num_epoch=1000\n",
    "    show_epoch=0\n",
    "\n",
    "    h1=new_model.fit(all_inputs_rec, new_targets, epochs=num_epoch, batch_size=128,verbose=show_epoch)\n",
    "    y_train_pred=new_model.predict(all_inputs_rec)\n",
    "    print ('Minimu loss achieved: ', min(h.history['loss']))\n",
    "    #print (h.history['loss'])\n",
    "    print (np.argmin(h1.history['loss']))\n",
    "    stop  = timeit.default_timer()\n",
    "    print ('Training time: %f', stop-start)\n",
    "    print('----'*20)\n",
    "    \n",
    "    line=[target_cols[i],min(h.history['loss']),min(h1.history['loss']),np.argmin(h1.history['loss']),stop-start]\n",
    "    target_loss.loc[Num_target]=line\n",
    "    Num_target+=1\n",
    "    #plt.scatter(new_targets,y_train_pred)\n",
    "    print (stats.describe(new_targets))\n",
    "    print('----'*20)\n",
    "    print (    stats.describe(y_train_pred))  \n",
    "    print('----'*20)\n",
    "    #plt.figure(figsize=(20,15))\n",
    "    #plt.plot(new_targets,'.-')\n",
    "    stats.describe(new_targets)\n",
    "    #plt.figure(figsize=(20,12))\n",
    "    #plt.plot(y_train_pred,'-s')\n",
    "    #fig_name=target_cols[i]+'.png'\n",
    "    #plt.savefig(fig_name)\n",
    "    target_loss.to_csv('results.csv')\n",
    "    if i<num-1:\n",
    "        del new_model"
   ]
  },
  {
   "cell_type": "code",
   "execution_count": 40,
   "metadata": {
    "collapsed": false
   },
   "outputs": [
    {
     "data": {
      "text/plain": [
       "Text(0,0.5,'Simulated target')"
      ]
     },
     "execution_count": 40,
     "metadata": {},
     "output_type": "execute_result"
    },
    {
     "data": {
      "image/png": "[encoded data removed]",
      "text/plain": [
       "<Figure size 1440x720 with 1 Axes>"
      ]
     },
     "metadata": {},
     "output_type": "display_data"
    }
   ],
   "source": [
    "plt.figure(figsize=(20,10))\n",
    "stats.describe(new_targets)\n",
    "plt.scatter(new_targets,y_train_pred)\n",
    "plt.plot([0,1],[0,1])\n",
    "plt.xlabel('Real target')\n",
    "plt.ylabel('Simulated target')"
   ]
  },
  {
   "cell_type": "markdown",
   "metadata": {},
   "source": [
    "The preliminary model tends to overestimate the small values while underestimate the large values. More efforts will be devoted to build a more accurate model. For example, more than one of previous data points can be used to predict the return for current time step. For that, a neural net with LSTM architechture will be used next. "
   ]
  },
  {
   "cell_type": "code",
   "execution_count": 41,
   "metadata": {
    "collapsed": false
   },
   "outputs": [
    {
     "data": {
      "text/plain": [
       "[<matplotlib.lines.Line2D at 0xaa81e89a20>]"
      ]
     },
     "execution_count": 41,
     "metadata": {},
     "output_type": "execute_result"
    },
    {
     "data": {
      "image/png": "[encoded data removed]",
      "text/plain": [
       "<Figure size 1440x720 with 1 Axes>"
      ]
     },
     "metadata": {},
     "output_type": "display_data"
    }
   ],
   "source": [
    "plt.figure(figsize=(20,10))\n",
    "plt.plot(new_targets,'.')\n",
    "stats.describe(new_targets)\n",
    "#plt.figure(figsize=(20,12))\n",
    "plt.plot(y_train_pred,'s')"
   ]
  },
  {
   "cell_type": "code",
   "execution_count": 42,
   "metadata": {
    "collapsed": false
   },
   "outputs": [],
   "source": [
    "def inverseTransform(minV,maxV, new_target):\n",
    "    return new_target*(maxV-minV)+minV"
   ]
  },
  {
   "cell_type": "code",
   "execution_count": 43,
   "metadata": {
    "collapsed": false
   },
   "outputs": [],
   "source": [
    "def Transform(minV,maxV, target):\n",
    "    return (target-minV)/(maxV-minV)"
   ]
  },
  {
   "cell_type": "code",
   "execution_count": 44,
   "metadata": {
    "collapsed": false
   },
   "outputs": [],
   "source": [
    "def TotalReturn(returnRate):\n",
    "    #totalRe[i]=(1+returnRate[0])*(1+returnRate[1])*...*(1+returnRate[i]), i =0 to n\n",
    "    totalRe=[]\n",
    "    for i in range(len(returnRate)):\n",
    "        if i==0:\n",
    "            temp=returnRate[i]+1\n",
    "        else:\n",
    "            temp=(returnRate[i]+1)*totalRe[i-1]\n",
    "        totalRe.append(temp)\n",
    "    return totalRe"
   ]
  },
  {
   "cell_type": "code",
   "execution_count": 45,
   "metadata": {
    "collapsed": false
   },
   "outputs": [],
   "source": [
    "newTarget_total=TotalReturn(targets_df[:,0])\n"
   ]
  },
  {
   "cell_type": "code",
   "execution_count": 46,
   "metadata": {
    "collapsed": false,
    "scrolled": true
   },
   "outputs": [
    {
     "data": {
      "text/plain": [
       "<matplotlib.legend.Legend at 0xaa8a670748>"
      ]
     },
     "execution_count": 46,
     "metadata": {},
     "output_type": "execute_result"
    },
    {
     "data": {
      "image/png": "[encoded data removed]",
      "text/plain": [
       "<Figure size 432x288 with 1 Axes>"
      ]
     },
     "metadata": {},
     "output_type": "display_data"
    }
   ],
   "source": [
    "predict_invScale=inverseTransform(scaler.data_min_[0],scaler.data_max_[0], y_train_pred)\n",
    "predict_total=TotalReturn(predict_invScale)\n",
    "plt.figure()\n",
    "plt.plot(predict_total,'.-b')\n",
    "plt.plot(newTarget_total,'-r')\n",
    "plt.xlabel('Time in days')\n",
    "plt.ylabel('Total return history')\n",
    "plt.legend(['Simulated','Real'])"
   ]
  },
  {
   "cell_type": "markdown",
   "metadata": {
    "collapsed": true
   },
   "source": [
    "# Decompose the importance of the 500 stocks with w vector for the duplication of Target 1"
   ]
  },
  {
   "cell_type": "code",
   "execution_count": 47,
   "metadata": {
    "collapsed": true
   },
   "outputs": [],
   "source": [
    "from scipy import linalg"
   ]
  },
  {
   "cell_type": "code",
   "execution_count": 48,
   "metadata": {
    "collapsed": true
   },
   "outputs": [],
   "source": [
    "w, res, rnk, s =linalg.lstsq(all_inputs_rec, y_train_pred)\n",
    "\n",
    "#Try to decompose the relative importances of the 500 strategies with W vector (in 500*1)"
   ]
  },
  {
   "cell_type": "code",
   "execution_count": 49,
   "metadata": {
    "collapsed": true
   },
   "outputs": [],
   "source": [
    "new=np.matmul(all_inputs_rec,w)"
   ]
  },
  {
   "cell_type": "code",
   "execution_count": 50,
   "metadata": {
    "collapsed": false
   },
   "outputs": [
    {
     "data": {
      "text/plain": [
       "[<matplotlib.lines.Line2D at 0xaa8a678ac8>]"
      ]
     },
     "execution_count": 50,
     "metadata": {},
     "output_type": "execute_result"
    },
    {
     "data": {
      "image/png": "[encoded data removed]",
      "text/plain": [
       "<Figure size 720x720 with 1 Axes>"
      ]
     },
     "metadata": {},
     "output_type": "display_data"
    }
   ],
   "source": [
    "plt.figure(figsize=(10,10))\n",
    "plt.scatter(new,y_train_pred)\n",
    "plt.plot([0,1],[0,1])\n"
   ]
  },
  {
   "cell_type": "code",
   "execution_count": 51,
   "metadata": {
    "collapsed": false
   },
   "outputs": [
    {
     "data": {
      "text/plain": [
       "0.61295015"
      ]
     },
     "execution_count": 51,
     "metadata": {},
     "output_type": "execute_result"
    },
    {
     "data": {
      "image/png": "[encoded data removed]",
      "text/plain": [
       "<Figure size 432x288 with 1 Axes>"
      ]
     },
     "metadata": {},
     "output_type": "display_data"
    }
   ],
   "source": [
    "plt.plot(y_train_pred-new,'.')\n",
    "np.mean(y_train_pred)"
   ]
  },
  {
   "cell_type": "markdown",
   "metadata": {},
   "source": [
    "Most of the errors between trained results by neural net and the sequence by the product of all 500 strategies (all_inputs_rec) and the weights w are relative small, less than 0.025/np.mean(y_train_pred), which is less than 5%."
   ]
  },
  {
   "cell_type": "code",
   "execution_count": null,
   "metadata": {
    "collapsed": true
   },
   "outputs": [],
   "source": []
  }
 ],
 "metadata": {
  "kernelspec": {
   "display_name": "Python 3",
   "language": "python",
   "name": "python3"
  },
  "language_info": {
   "codemirror_mode": {
    "name": "ipython",
    "version": 3
   },
   "file_extension": ".py",
   "mimetype": "text/x-python",
   "name": "python",
   "nbconvert_exporter": "python",
   "pygments_lexer": "ipython3",
   "version": "3.6.6"
  }
 },
 "nbformat": 4,
 "nbformat_minor": 2
}
